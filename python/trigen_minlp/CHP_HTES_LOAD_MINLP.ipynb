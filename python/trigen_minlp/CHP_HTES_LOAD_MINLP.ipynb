{
 "metadata": {
  "name": ""
 },
 "nbformat": 3,
 "nbformat_minor": 0,
 "worksheets": [
  {
   "cells": [
    {
     "cell_type": "code",
     "collapsed": false,
     "input": [
      "import pylab as pl\n",
      "import casadi as ca\n",
      "import numpy as np\n",
      "print ca.__version__"
     ],
     "language": "python",
     "metadata": {},
     "outputs": [
      {
       "output_type": "stream",
       "stream": "stdout",
       "text": [
        "3.1.0+199.2ee84c75f\n"
       ]
      }
     ],
     "prompt_number": 1
    },
    {
     "cell_type": "code",
     "collapsed": false,
     "input": [
      "pl.close(\"all\")\n",
      "\n",
      "# Number of Storage Layers \n",
      "\n",
      "N_s = 9\n",
      "\n",
      "# Number of algebraic states (depending on the way we define variables)\n",
      "\n",
      "N_z = 18\n",
      "\n",
      "# States and controls\n",
      "\n",
      "x = ca.SX.sym(\"x\", N_s ) # Differential states: temperatures in the tank\n",
      "z = ca.SX.sym(\"x\", N_z) # Algebraic variable\n",
      "#u = ca.SX.sym(\"u\",1) # Control\n",
      "u = ca.SX.sym(\"u\", 2) # 1st element is Control, 2nd element is Power thermal used by the Load\n",
      "\n",
      "\n",
      "# Parameters\n",
      "\n",
      "m_s = 1.5e3\n",
      "c_p = 4.182e3\n",
      "P_th_CHP = 9.6e3 # in W\n",
      "p_CHP = [0.306565505429308, 0.0108903851122254, 0.000207768653760159]\n",
      "\n",
      "T_CC_FL = 35\n",
      "delta_T_CC = 10\n",
      "T_LOAD_RL = T_CC_RL = T_CC_FL - delta_T_CC\n",
      "P_th_CC_constant = 2e3\n",
      "\n",
      "# Objective is to track the temperature of the upper layer in the tank to T_ref\n",
      "T_ref = 70"
     ],
     "language": "python",
     "metadata": {},
     "outputs": [],
     "prompt_number": 2
    },
    {
     "cell_type": "code",
     "collapsed": false,
     "input": [
      "# States initials\n",
      "\n",
      "T_s_0_0 = 25.0\n",
      "T_s_N_0 = 35.0\n",
      "T_s_init = pl.linspace(T_s_0_0, T_s_N_0, N_s)\n",
      "\n",
      "x_0 = list(T_s_init)\n",
      "\n",
      "# Duration and time points\n",
      "\n",
      "hours = 6\n",
      "controls_actions_per_hour = 1\n",
      "\n",
      "t0 = 0.0;\n",
      "tf = hours * 3600.0;\n",
      "N = hours * controls_actions_per_hour;\n",
      "\n",
      "time_points = pl.linspace(t0, tf, N + 1)\n",
      "\n",
      "# Initial controls\n",
      "\n",
      "chp_status_init = 0.0 * pl.ones(time_points.size - 1)\n",
      "\n",
      "u_init = chp_status_init # to check\n",
      "\n",
      "u_0 = [1,2000]\n",
      "\n",
      "# Duration of a time interval\n",
      "\n",
      "dt = (tf - t0) / N\n"
     ],
     "language": "python",
     "metadata": {},
     "outputs": [],
     "prompt_number": 3
    },
    {
     "cell_type": "code",
     "collapsed": false,
     "input": [
      "# System dynamics\n",
      "\n",
      "T_s = x # NOTE the meaning: Ts[0] is temperature of the 1st layer, Ts[8] is for the 9th layer\n",
      "\n",
      "mdot_CHP_to_9 = z[0]\n",
      "mdot_9_to_8 = z[1]\n",
      "mdot_8_to_7 = z[2]\n",
      "mdot_7_to_6 = z[3]\n",
      "mdot_6_to_LOAD = z[4]\n",
      "mdot_6_to_5 = z[5]\n",
      "mdot_5_to_6 = z[6]\n",
      "mdot_5_to_4 = z[7]\n",
      "mdot_4_to_5 = z[8]\n",
      "mdot_4_to_3 = z[9]\n",
      "mdot_3_to_4 = z[10]\n",
      "mdot_3_to_2 = z[11]\n",
      "mdot_2_to_3 = z[12]\n",
      "mdot_2_to_1 = z[13]\n",
      "mdot_1_to_2 = z[14]\n",
      "mdot_LOAD_to_1 = z[15]\n",
      "mdot_1_to_CHP = z[16]\n",
      "T_out_CHP = z[17] # It does not contribute anything to the DAE model\n",
      "\n",
      "status_CHP = u[0] # Real control input\n",
      "P_th_CC = u[1] # Consider the power thermal of the load as a parameter in the DAE, similar to a control\n",
      "\n",
      "m_s_i = m_s / N_s\n",
      "\n",
      "# Differential equation, left hand side = xdot\n",
      "dxdt = []\n",
      "# Energy balance equations, note that dEnergy/dt = m*cp*dT/dt\n",
      "dxdt.append((1.0 / m_s_i) * status_CHP * (mdot_2_to_1 * T_s[1] - mdot_1_to_2 * T_s[0] + mdot_LOAD_to_1 * T_LOAD_RL - mdot_1_to_CHP * T_s[0])) # T_1_dot\n",
      "dxdt.append((1.0 / m_s_i) * status_CHP * (mdot_3_to_2 * T_s[2] - mdot_2_to_3 * T_s[1] + mdot_1_to_2 * T_s[0] - mdot_2_to_1 * T_s[1])) # T_2_dot\n",
      "dxdt.append((1.0 / m_s_i) * status_CHP * (mdot_4_to_3 * T_s[3] - mdot_3_to_4 * T_s[2] + mdot_2_to_3 * T_s[1] - mdot_3_to_2 * T_s[2])) # T_3_dot\n",
      "dxdt.append((1.0 / m_s_i) * status_CHP * (mdot_5_to_4 * T_s[4] - mdot_4_to_5 * T_s[3] + mdot_3_to_4 * T_s[2] - mdot_4_to_3 * T_s[3])) # T_4_dot\n",
      "dxdt.append((1.0 / m_s_i) * status_CHP * (mdot_7_to_6 * T_s[6] - mdot_6_to_5 * T_s[5] + mdot_5_to_6 * T_s[4] - mdot_6_to_LOAD * T_s[5])) # T_6_dot\n",
      "dxdt.append((1.0 / m_s_i) * status_CHP * (mdot_6_to_5 * T_s[5] - mdot_5_to_6 * T_s[4] + mdot_4_to_5 * T_s[3] - mdot_5_to_4 * T_s[4])) # T_5_dot\n",
      "dxdt.append((1.0 / m_s_i) * status_CHP * (mdot_8_to_7 * T_s[7] - mdot_7_to_6 * T_s[6])) # T_7_dot\n",
      "dxdt.append((1.0 / m_s_i) * status_CHP * (mdot_9_to_8 * T_s[8] - mdot_8_to_7 * T_s[7])) # T_8_dot\n",
      "dxdt.append((1.0 / m_s_i) * status_CHP * (mdot_CHP_to_9 * T_out_CHP - mdot_9_to_8 * T_s[8])) # T_9_dot\n",
      "\n",
      "dxdt = ca.vertcat(*dxdt)\n",
      "\n",
      "# f_x = ca.vertcat(dxdt)\n",
      "\n",
      "# Algebraic equations, left hand side = 0\n",
      "f_z = []\n",
      "f_z.append(mdot_CHP_to_9 - (p_CHP[0] - p_CHP[1] * T_s[0] + p_CHP[2] * T_s[0]**2) / 3.6 )# the curve was fit to temperature go into CHP\n",
      "f_z.append(T_out_CHP - ((P_th_CHP / (mdot_CHP_to_9 * c_p+0.1)) + T_s[0]) )\n",
      "# Mass conservation equations\n",
      "f_z.append(mdot_9_to_8 - mdot_CHP_to_9) # mdot_9_to_CHP = 0\n",
      "f_z.append(mdot_8_to_7 - mdot_9_to_8) # mdot_8_to_9 = 0\n",
      "f_z.append(mdot_7_to_6 - mdot_8_to_7) # mdot_7_to_8 = 0\n",
      "f_z.append(- mdot_6_to_5 + mdot_7_to_6 + mdot_5_to_6 - mdot_6_to_LOAD) # mdot_6_to_7 = 0, water flow 1 direction from 6th layer to LOAD\n",
      "f_z.append(- mdot_5_to_4 + mdot_6_to_5 - mdot_5_to_6 + mdot_4_to_5)\n",
      "f_z.append(- mdot_4_to_3 + mdot_5_to_4 - mdot_4_to_5 + mdot_3_to_4)\n",
      "f_z.append(- mdot_3_to_2 + mdot_4_to_3 - mdot_3_to_4 + mdot_2_to_3)\n",
      "f_z.append(- mdot_2_to_1 + mdot_3_to_2 - mdot_2_to_3 + mdot_1_to_2)\n",
      "f_z.append(- mdot_1_to_CHP + mdot_2_to_1 - mdot_1_to_2 + mdot_LOAD_to_1) # water flow 1 direction from LOAD to 1st layer, and 1st to CHP\n",
      "f_z.append(- mdot_6_to_LOAD + mdot_LOAD_to_1) # only need this, then it automatically guarantee mdot_CHP_to_9 = mdot_1_to_CHP\n",
      "# f_z.append(mdot_CHP_to_9 - mdot_1_to_CHP)\n",
      "# Complementarity constraint\n",
      "f_z.append(mdot_6_to_5 * mdot_5_to_6) # either mdot_6_to_5 =0 or mdot_5_to_6 = 0\n",
      "f_z.append(mdot_5_to_4 * mdot_4_to_5)\n",
      "f_z.append(mdot_4_to_3 * mdot_3_to_4)\n",
      "f_z.append(mdot_3_to_2 * mdot_2_to_3)\n",
      "f_z.append(mdot_2_to_1 * mdot_1_to_2)\n",
      "f_z.append(P_th_CC/c_p - mdot_6_to_LOAD * (T_s[5] - T_LOAD_RL))\n",
      "f_z = ca.vertcat(*f_z)"
     ],
     "language": "python",
     "metadata": {},
     "outputs": [],
     "prompt_number": 4
    },
    {
     "cell_type": "code",
     "collapsed": false,
     "input": [
      "# Constraints\n",
      "\n",
      "T_min_all = 0.0\n",
      "T_max_all = 100.0\n",
      "\n",
      "x_lbw = list(T_min_all*pl.ones(N_s))\n",
      "x_ubw = list(T_max_all*pl.ones(N_s))\n",
      "\n",
      "zeros_z = list(0.0*pl.ones(f_z.numel()))\n",
      "zeros_x = list(0.0*pl.ones(dxdt.numel()))"
     ],
     "language": "python",
     "metadata": {},
     "outputs": [],
     "prompt_number": 5
    },
    {
     "cell_type": "code",
     "collapsed": false,
     "input": [
      "# Create dynamical model in form of a DAE (Differential Algebraic Equations) system\n",
      "\n",
      "dae = {'x':x, 'z':z, 'p':u, 'ode':dxdt, 'alg':f_z}\n",
      "#opts = {'tf':0.5} # interval length\n",
      "I = ca.integrator('I','collocation', dae)\n",
      "\n",
      "f = ca.Function('f', [x, z, u], [dxdt,f_z], ['x', 'z', 'p'], ['ode','alg'])\n",
      "fz = ca.Function('fz', [z, x, u], [f_z], ['z','x', 'p'], ['alg'])\n",
      "G1 = ca.rootfinder('G1','newton',fz)\n",
      "\n",
      "# Test simulation\n",
      "z_0_guess = [0.511 for i in range(N_z)]\n",
      "outz=G1(z=z_0_guess, x=x_0, p=u_0)\n",
      "z_0_solve=outz['alg']\n",
      "\n",
      "z_start=z_0_solve\n",
      "\n",
      "r = I(x0=x_0,z0=z_start,p=u_0)\n",
      "print(x_0)\n",
      "print(r['xf'])\n",
      "\n",
      "print(z_start)\n",
      "print(r['zf'])\n"
     ],
     "language": "python",
     "metadata": {},
     "outputs": [
      {
       "output_type": "stream",
       "stream": "stdout",
       "text": [
        "[25.0, 26.25, 27.5, 28.75, 30.0, 31.25, 32.5, 33.75, 35.0]\n",
        "[25, 26.2498, 27.4998, 28.7498, 30.0001, 31.2498, 32.5003, 33.7503, 35.011]\n",
        "[0.0456004, 0.0456004, 0.0456004, 0.0456004, 0.0765184, 1.04699e-15, 0.0309181, 1.04699e-15, 0.0309181, 1.04699e-15, 0.0309181, 1.04699e-15, 0.0309181, 1.04699e-15, 0.0309181, 0.0765184, 0.0456004, 75.3143]\n",
        "[0.0456004, 0.0456004, 0.0456004, 0.0456004, 0.0765213, 3.92748e-17, 0.0309209, 9.15726e-17, 0.0309209, -1.29431e-23, 0.0309209, 9.92617e-24, 0.0309209, -2.03306e-23, 0.0309209, 0.0765213, 0.0456004, 75.3143]\n"
       ]
      }
     ],
     "prompt_number": 7
    },
    {
     "cell_type": "code",
     "collapsed": false,
     "input": [
      "# Optimal control problem formulation\n",
      "X = [ ca.MX.sym(\"x\", N_s) for i in range(N+1)]\n",
      "U = [ ca.MX.sym(\"u\", 2) for i in range(N)]\n",
      "# X and U are lists of MX variables\n",
      "\n",
      "# Multiple shooting\n",
      "\n",
      "J = 0\n",
      "\n",
      "X_next = []\n",
      "Xs = []\n",
      "\n",
      "gaps = []\n",
      "g_min = []\n",
      "g_max = []\n",
      "\n",
      "lbw = [] # Lower bounds on variables\n",
      "ubw = [] # Upper bounds on variables\n",
      "\n",
      "# Generate the multiple shooting equality constraints, and set which\n",
      "# optimization variables are discrete\n",
      "\n",
      "discrete = []\n",
      "\n",
      "V = []\n",
      "\n",
      "V_init = []\n",
      "\n",
      "z0 = z_0_solve\n",
      "\n",
      "for k in range(N):\n",
      "    r = I(x0=X[k],z0=z0,p=U[k])\n",
      "    z0 = r[\"zf\"]\n",
      "    #X_next.append(r[\"xf\"])\n",
      "    gaps.append(X[k+1]-r[\"xf\"])\n",
      "    #Xs.append(X[k])\n",
      "    \n",
      "    V.append(X[k])\n",
      "    V.append(U[k])\n",
      "    \n",
      "    g_min.append(np.zeros(N_s))\n",
      "    g_max.append(np.zeros(N_s))\n",
      "    discrete += [False] * N_s # for states\n",
      "    discrete += [True, False] # true control is ON/OFF\n",
      "    lbw += x_lbw\n",
      "    lbw += [0, 0]\n",
      "    ubw += x_ubw\n",
      "    ubw += [1, ca.inf]\n",
      "    J = J + (r['xf'][-1]-T_ref)**2\n",
      "    \n",
      "    V_init.append(x_0)\n",
      "    V_init.append(u_0)\n",
      "    \n",
      "\n",
      "V_init.append(x_0)    \n",
      "    \n",
      "V.append(X[-1])    \n",
      "discrete += [False] * N_s\n",
      "\n",
      "lbw += x_lbw\n",
      "ubw += x_ubw\n",
      "\n",
      "u_true = ca.MX.sym(\"u\",N)\n",
      "p = ca.MX.sym(\"p\",N)\n",
      "\n",
      "# Stack the constraints as well as their bounds\n",
      "\n",
      "gaps = ca.vertcat(*gaps)\n",
      "g_min = ca.vertcat(*g_min)\n",
      "g_max = ca.vertcat(*g_max)\n",
      "\n",
      "p_track = P_th_CC_constant*np.array(range(1,N+1))\n",
      "\n",
      "# Set up the NLP and the solver accordingly, and solve the optimization problem\n",
      "\n",
      "nlp = {\"x\": ca.veccat(*V), \"p\": p, \"f\": J, \"g\": gaps}\n",
      "\n",
      "# Relax MINLP to NLP, solve with IPOPT\n",
      "opts = {\"ipopt\": {\"hessian_approximation\": \"limited-memory\"}}\n",
      "solver = ca.nlpsol('solver','ipopt',nlp,opts)\n",
      "solution = solver(x0 = ca.vertcat(*V_init), p = p_track, lbx = lbw, ubx = ubw, lbg = g_min, ubg = g_max)\n",
      "\n",
      "print(solution)\n",
      "\n"
     ],
     "language": "python",
     "metadata": {},
     "outputs": [
      {
       "output_type": "stream",
       "stream": "stdout",
       "text": [
        "\n",
        "******************************************************************************\n",
        "This program contains Ipopt, a library for large-scale nonlinear optimization.\n",
        " Ipopt is released as open source code under the Eclipse Public License (EPL).\n",
        "         For more information visit http://projects.coin-or.org/Ipopt\n",
        "******************************************************************************\n",
        "\n",
        "This is Ipopt version 3.12.3, running with linear solver mumps.\n",
        "NOTE: Other linear solvers might be more efficient (see Ipopt documentation).\n",
        "\n",
        "Number of nonzeros in equality constraint Jacobian...:      648\n",
        "Number of nonzeros in inequality constraint Jacobian.:        0\n",
        "Number of nonzeros in Lagrangian Hessian.............:        0\n",
        "\n",
        "Total number of variables............................:       75\n"
       ]
      },
      {
       "output_type": "stream",
       "stream": "stdout",
       "text": [
        "                     variables with only lower bounds:        6\n",
        "                variables with lower and upper bounds:       69\n",
        "                     variables with only upper bounds:        0\n",
        "Total number of equality constraints.................:       54\n",
        "Total number of inequality constraints...............:        0\n",
        "        inequality constraints with only lower bounds:        0\n",
        "   inequality constraints with lower and upper bounds:        0\n",
        "        inequality constraints with only upper bounds:        0\n",
        "\n",
        "iter    objective    inf_pr   inf_du lg(mu)  ||d||  lg(rg) alpha_du alpha_pr  ls\n"
       ]
      },
      {
       "output_type": "stream",
       "stream": "stdout",
       "text": [
        "   0  7.3454150e+03 1.09e-02 6.00e+01   0.0 0.00e+00    -  0.00e+00 0.00e+00   0\n",
        "   1  6.9448730e+03 1.10e-02 5.86e+01   1.8 6.02e+01    -  9.98e-01 1.67e-02f  1"
       ]
      },
      {
       "output_type": "stream",
       "stream": "stdout",
       "text": [
        "\n",
        "   2  2.9530817e+02 1.99e-04 1.34e+01   0.5 2.70e+01    -  1.00e+00 1.00e+00f  1"
       ]
      },
      {
       "output_type": "stream",
       "stream": "stdout",
       "text": [
        "\n",
        "   3  5.6324456e-02 5.57e-05 1.39e-01  -0.2 6.92e+00    -  1.00e+00 1.00e+00f  1"
       ]
      },
      {
       "output_type": "stream",
       "stream": "stdout",
       "text": [
        "\n",
        "   4  1.1789367e-06 1.41e-07 4.08e-03  -2.2 9.66e-02    -  9.95e-01 1.00e+00f  1"
       ]
      },
      {
       "output_type": "stream",
       "stream": "stdout",
       "text": [
        "\n",
        "   5  2.1621758e-07 1.52e-12 3.71e-05  -7.9 4.01e-04    -  9.90e-01 1.00e+00h  1"
       ]
      },
      {
       "output_type": "stream",
       "stream": "stdout",
       "text": [
        "\n",
        "   6  2.1620668e-07 1.42e-13 1.51e-06  -9.9 1.95e-06    -  9.99e-01 1.00e+00h  1"
       ]
      },
      {
       "output_type": "stream",
       "stream": "stdout",
       "text": [
        "\n",
        "   7  2.1468625e-07 6.47e-13 1.04e-05 -11.0 3.22e-04    -  1.00e+00 1.00e+00h  1"
       ]
      },
      {
       "output_type": "stream",
       "stream": "stdout",
       "text": [
        "\n",
        "   8  2.0181446e-07 3.58e-11 3.93e-05 -11.0 3.11e-03    -  1.00e+00 1.00e+00h  1"
       ]
      },
      {
       "output_type": "stream",
       "stream": "stdout",
       "text": [
        "\n",
        "   9  1.1295546e-07 1.99e-09 9.11e-05 -11.0 2.50e-02    -  1.00e+00 1.00e+00h  1"
       ]
      },
      {
       "output_type": "stream",
       "stream": "stdout",
       "text": [
        "\n",
        "iter    objective    inf_pr   inf_du lg(mu)  ||d||  lg(rg) alpha_du alpha_pr  ls\n"
       ]
      },
      {
       "output_type": "stream",
       "stream": "stdout",
       "text": [
        "  10  8.4687031e-09 6.26e-09 3.35e-05 -11.0 5.36e-02    -  1.00e+00 8.13e-01h  1\n",
        "  11  4.3448032e-09 2.45e-09 1.38e-05 -11.0 1.62e-02    -  1.00e+00 6.21e-01h  1"
       ]
      },
      {
       "output_type": "stream",
       "stream": "stdout",
       "text": [
        "\n",
        "  12  1.6003517e-09 2.66e-10 3.08e-06 -10.9 1.35e-02    -  1.00e+00 1.00e+00h  1"
       ]
      },
      {
       "output_type": "stream",
       "stream": "stdout",
       "text": [
        "\n",
        "  13  5.5513337e-10 3.23e-10 9.13e-06 -11.0 2.36e-02    -  1.00e+00 3.95e-01h  1"
       ]
      },
      {
       "output_type": "stream",
       "stream": "stdout",
       "text": [
        "\n",
        "  14  2.2373925e-10 2.59e-11 3.12e-08 -11.0 3.34e-03    -  1.00e+00 1.00e+00h  1"
       ]
      },
      {
       "output_type": "stream",
       "stream": "stdout",
       "text": [
        "\n",
        "  15  7.2579086e-11 1.31e-11 4.19e-07 -11.0 2.21e-03    -  1.00e+00 1.00e+00h  1"
       ]
      },
      {
       "output_type": "stream",
       "stream": "stdout",
       "text": [
        "\n",
        "  16  2.6713124e-11 7.36e-12 2.29e-07 -11.0 1.55e-03    -  1.00e+00 1.00e+00h  1"
       ]
      },
      {
       "output_type": "stream",
       "stream": "stdout",
       "text": [
        "\n",
        "  17  2.4549468e-11 2.84e-13 5.89e-08 -11.0 2.50e-04    -  1.00e+00 1.00e+00h  1"
       ]
      },
      {
       "output_type": "stream",
       "stream": "stdout",
       "text": [
        "\n",
        "  18  2.5033349e-11 1.71e-13 7.93e-09 -11.0 7.82e-05    -  1.00e+00 1.00e+00h  1"
       ]
      },
      {
       "output_type": "stream",
       "stream": "stdout",
       "text": [
        "\n",
        "\n",
        "Number of Iterations....: 18\n",
        "\n",
        "                                   (scaled)                 (unscaled)\n",
        "Objective...............:   2.5033348833791495e-11    2.5033348833791495e-11\n",
        "Dual infeasibility......:   7.9278829176955976e-09    7.9278829176955976e-09\n",
        "Constraint violation....:   1.7053025658242404e-13    1.7053025658242404e-13\n",
        "Complementarity.........:   1.0000000000000003e-11    1.0000000000000003e-11\n",
        "Overall NLP error.......:   7.9278829176955976e-09    7.9278829176955976e-09\n",
        "\n",
        "\n",
        "Number of objective function evaluations             = 19\n",
        "Number of objective gradient evaluations             = 19\n",
        "Number of equality constraint evaluations            = 19\n",
        "Number of inequality constraint evaluations          = 0\n",
        "Number of equality constraint Jacobian evaluations   = 19\n",
        "Number of inequality constraint Jacobian evaluations = 0\n",
        "Number of Lagrangian Hessian evaluations             = 0\n",
        "Total CPU secs in IPOPT (w/o function evaluations)   =      3.620\n",
        "Total CPU secs in NLP function evaluations           =     37.472\n",
        "\n",
        "EXIT: Optimal Solution Found.\n",
        "                   proc           wall      num           mean             mean\n",
        "                   time           time     evals       proc time        wall time\n",
        "        nlp_f     1.290 [s]      1.291 [s]    19      67.92 [ms]       67.97 [ms]\n",
        "        nlp_g     1.144 [s]      1.145 [s]    19      60.22 [ms]       60.26 [ms]\n",
        "   nlp_grad_f     2.931 [s]      2.931 [s]    20     146.53 [ms]      146.54 [ms]\n",
        "    nlp_jac_g    35.753 [s]     35.765 [s]    20    1787.67 [ms]     1788.23 [ms]\n",
        " all previous    41.119 [s]     41.132 [s]\n",
        "callback_prep     0.000 [s]      0.000 [s]    19       0.01 [ms]        0.01 [ms]\n",
        "       solver     0.078 [s]      0.075 [s]\n",
        "     mainloop    41.197 [s]     41.207 [s]\n",
        "{'g': DM([-1.77636e-14, 3.55271e-15, 3.55271e-15, -4.61853e-14, -2.84217e-14, 0, 4.26326e-14, 2.13163e-14, 9.9476e-14, -3.55271e-15, 2.84217e-14, -2.84217e-14, -7.10543e-15, 7.10543e-15, -3.19744e-14, 4.26326e-14, 4.9738e-14, 1.7053e-13, -3.55271e-15, -1.06581e-14, -3.55271e-14, 1.42109e-14, -2.4869e-14, 3.55271e-14, -1.42109e-14, -7.10543e-15, -9.9476e-14, -2.13163e-14, 1.42109e-14, -2.84217e-14, -1.42109e-14, 1.06581e-14, -7.10543e-15, -2.84217e-14, 7.10543e-15, -1.13687e-13, 1.77636e-14, -3.19744e-14, 0, 7.10543e-15, -3.55271e-15, -2.84217e-14, 1.42109e-14, 3.55271e-14, 4.26326e-14, -1.77636e-14, 2.13163e-14, 4.9738e-14, -3.55271e-15, -3.19744e-14, -3.19744e-14, 7.10543e-15, 2.84217e-14, -1.42109e-14]), 'f': DM(2.50333e-11), 'lam_g': DM([-1.31335e-12, 1.95605e-14, 1.57877e-14, 1.58146e-14, -1.1518e-14, 1.58394e-14, -2.73839e-14, -9.41712e-13, -6.27565e-06, 3.83949e-13, 4.88538e-15, 3.93737e-15, 3.9441e-15, -2.87283e-15, 3.95059e-15, -6.82221e-15, -3.17658e-13, -9.38276e-06, 1.35694e-12, -2.2602e-14, -1.826e-14, -1.8291e-14, 1.33207e-14, -1.83187e-14, 3.16945e-14, 8.37823e-13, -1.03671e-05, 1.98219e-12, -6.36222e-14, -5.13863e-14, -5.14737e-14, 3.74873e-14, -5.15523e-14, 8.91762e-14, 2.55376e-12, -9.40205e-06, 2.1768e-12, -6.49398e-14, -5.24488e-14, -5.2538e-14, 3.82625e-14, -5.26184e-14, 9.10182e-14, 2.63115e-12, -6.29717e-06, 1.13479e-12, -3.96707e-14, -3.20398e-14, -3.20943e-14, 2.33737e-14, -3.21435e-14, 5.56008e-14, 1.61189e-12, -7.92754e-09]), 'lam_x': DM([-2.61587e-13, -2.36713e-13, -2.18272e-13, -2.01063e-13, -1.8493e-13, -1.69737e-13, -1.55371e-13, -1.41742e-13, 1.90475e-13, -1.31729e-10, -4.99997e-15, -2.61587e-13, -2.36713e-13, -2.18273e-13, -2.01063e-13, -1.84929e-13, -1.69737e-13, -1.5537e-13, -1.41734e-13, 1.90476e-13, -9.72161e-09, -4.99997e-15, -2.61587e-13, -2.36713e-13, -2.18273e-13, -2.01063e-13, -1.84929e-13, -1.69737e-13, -1.5537e-13, -1.41734e-13, 1.90476e-13, -1.45172e-08, -4.99997e-15, -2.61587e-13, -2.36713e-13, -2.18273e-13, -2.01063e-13, -1.84929e-13, -1.69737e-13, -1.5537e-13, -1.41734e-13, 1.90476e-13, -1.58115e-08, -4.99997e-15, -2.61587e-13, -2.36713e-13, -2.18273e-13, -2.01063e-13, -1.84929e-13, -1.69737e-13, -1.5537e-13, -1.41734e-13, 1.90476e-13, -1.43782e-08, -4.99997e-15, -2.61587e-13, -2.36713e-13, -2.18273e-13, -2.01063e-13, -1.84929e-13, -1.69737e-13, -1.5537e-13, -1.41734e-13, 1.90476e-13, -9.64032e-09, -4.99997e-15, -2.61587e-13, -2.36713e-13, -2.18273e-13, -2.01063e-13, -1.84929e-13, -1.69737e-13, -1.5537e-13, -1.41734e-13, 1.90476e-13]), 'x': DM([25.2886, 26.7879, 27.9988, 29.2116, 30.4264, 31.6428, 32.8607, 34.0788, 69.9999, 0.0701834, 2000.01, 25.2886, 26.7879, 27.9987, 29.2116, 30.4264, 31.6428, 32.8607, 34.0795, 70, 0.00102711, 2000.01, 25.2886, 26.7879, 27.9987, 29.2116, 30.4264, 31.6428, 32.8607, 34.0795, 70, 0.00068813, 2000.01, 25.2886, 26.7879, 27.9987, 29.2116, 30.4264, 31.6428, 32.8607, 34.0795, 70, 0.000631879, 2000.01, 25.2886, 26.7879, 27.9987, 29.2116, 30.4264, 31.6428, 32.8607, 34.0795, 70, 0.00069366, 2000.01, 25.2886, 26.7879, 27.9987, 29.2116, 30.4264, 31.6428, 32.8607, 34.0795, 70, 0.00103224, 2000.01, 25.2886, 26.7879, 27.9987, 29.2116, 30.4264, 31.6428, 32.8607, 34.0795, 70]), 'lam_p': DM([0, 0, 0, 0, 0, 0])}\n"
       ]
      }
     ],
     "prompt_number": 8
    },
    {
     "cell_type": "code",
     "collapsed": false,
     "input": [
      "# Set up the MINLP and the solver accordingly, and solve the optimization problem\n",
      "\n",
      "minlp = {\"x\": ca.veccat(*V), \"p\": p, \"f\": J, \"g\": gaps}\n",
      "\n",
      "## Solve MINLP with bonmin\n",
      "# VERY time consuming\n",
      "minlp_opts = {\"discrete\": discrete}#, \"bonmin\":{\"ipopt.print_level\":5}}\n",
      "minlpsolver = ca.nlpsol(\"minlpsolver\", \"bonmin\", nlp, minlp_opts) #, \"bonmin.linear_solver\": \"ma86\"})\n",
      "minlp_solution = minlpsolver(x0 = ca.vertcat(*V_init), p = p_track, lbx = lbw, ubx = ubw, lbg = g_min, ubg = g_max)\n"
     ],
     "language": "python",
     "metadata": {},
     "outputs": [
      {
       "output_type": "stream",
       "stream": "stdout",
       "text": [
        "\n",
        "******************************************************************************\n",
        "This program contains Ipopt, a library for large-scale nonlinear optimization.\n",
        " Ipopt is released as open source code under the Eclipse Public License (EPL).\n",
        "         For more information visit http://projects.coin-or.org/Ipopt\n",
        "******************************************************************************\n",
        "\n",
        "NLP0012I \n",
        "              Num      Status      Obj             It       time                 Location"
       ]
      },
      {
       "output_type": "stream",
       "stream": "stdout",
       "text": [
        "\n",
        "NLP0014I             1         OPT 3.5965282e-09       11 158.24\n",
        "NLP0012I \n",
        "              Num      Status      Obj             It       time                 Location"
       ]
      },
      {
       "output_type": "stream",
       "stream": "stdout",
       "text": [
        "\n",
        "NLP0014I             1         OPT 2.358782e-10       16 199.86\n",
        "NLP0014I             2         OPT 1.0386671e-08       13 148.952"
       ]
      },
      {
       "output_type": "stream",
       "stream": "stdout",
       "text": [
        "\n",
        "NLP0014I             3         OPT 2.2987313e-11       13 131.432"
       ]
      },
      {
       "output_type": "stream",
       "stream": "stdout",
       "text": [
        "\n",
        "NLP0014I             4         OPT 1.4124476e-12       10 110.6"
       ]
      },
      {
       "output_type": "stream",
       "stream": "stdout",
       "text": [
        "\n",
        "NLP0014I             5         OPT 3.8548564e-12       11 187.196"
       ]
      },
      {
       "output_type": "stream",
       "stream": "stdout",
       "text": [
        "\n",
        "NLP0014I             6         OPT 3.0217458e-11       12 155.008"
       ]
      },
      {
       "output_type": "stream",
       "stream": "stdout",
       "text": [
        "\n",
        "NLP0014I             7         OPT 3.0217458e-11       12 144.912"
       ]
      },
      {
       "output_type": "stream",
       "stream": "stdout",
       "text": [
        "\n",
        "NLP0012I \n",
        "              Num      Status      Obj             It       time                 Location"
       ]
      },
      {
       "output_type": "stream",
       "stream": "stdout",
       "text": [
        "\n",
        "NLP0014I             1         OPT 2.9770092e-11       24 193.568\n",
        "Cbc0012I Integer solution of 2.9770092e-11 found by DiveMIPFractional after 0 iterations and 0 nodes (1272.52 seconds)\n",
        "Cbc0001I Search completed - best objective 2.977009183820116e-11, took 0 iterations and 0 nodes (1272.75 seconds)"
       ]
      },
      {
       "output_type": "stream",
       "stream": "stdout",
       "text": [
        "\n",
        "Cbc0035I Maximum depth 0, 0 variables fixed on reduced cost\n",
        "                   proc           wall      num           mean             mean\n",
        "                   time           time     evals       proc time        wall time\n",
        "        nlp_f     9.933 [s]      9.956 [s]   158      62.87 [ms]       63.01 [ms]\n",
        "        nlp_g     9.309 [s]      9.330 [s]   151      61.65 [ms]       61.79 [ms]\n",
        "   nlp_grad_f    25.816 [s]     25.887 [s]   143     180.53 [ms]      181.03 [ms]\n",
        "    nlp_jac_g   537.966 [s]    539.249 [s]   140    3842.62 [ms]     3851.78 [ms]\n",
        "   nlp_hess_l   849.916 [s]    851.845 [s]   122    6966.52 [ms]     6982.34 [ms]\n",
        " all previous  1432.940 [s]   1436.267 [s]\n",
        "       solver     0.281 [s]      0.283 [s]\n",
        "     mainloop  1433.222 [s]   1436.550 [s]\n"
       ]
      }
     ],
     "prompt_number": 19
    },
    {
     "cell_type": "code",
     "collapsed": false,
     "input": [
      "V_mopt = minlp_solution['x']\n",
      "print(V_mopt)\n",
      "V_opt = solution[\"x\"]\n",
      "print(V_opt)"
     ],
     "language": "python",
     "metadata": {},
     "outputs": [
      {
       "output_type": "stream",
       "stream": "stdout",
       "text": [
        "[21.1236, 50.2602, 49.9991, 50.0007, 50.0038, 50.4697, 50, 49.9903, 70, 1, 99920.9, 21.1454, 50.1049, 50.0001, 50.0007, 50.0012, 50.4697, 50, 49.996, 70, 1, 96701.6, 21.1663, 49.9558, 50.0003, 50.0007, 49.9986, 50.4697, 50, 50.0016, 70, 0, 100000, 21.1663, 49.9558, 50.0003, 50.0007, 49.9986, 50.4697, 50, 50.0016, 70, 0, 100000, 21.1663, 49.9558, 50.0003, 50.0007, 49.9986, 50.4697, 50, 50.0016, 70, 0, 100000, 21.1663, 49.9558, 50.0003, 50.0007, 49.9986, 50.4697, 50, 50.0016, 70, 1, 96676.8, 21.1871, 49.8075, 49.9997, 50.0007, 49.9961, 50.4697, 50, 50.0072, 70]\n",
        "[25.2886, 26.7879, 27.9988, 29.2116, 30.4264, 31.6428, 32.8607, 34.0788, 69.9999, 0.0701834, 2000.01, 25.2886, 26.7879, 27.9987, 29.2116, 30.4264, 31.6428, 32.8607, 34.0795, 70, 0.00102711, 2000.01, 25.2886, 26.7879, 27.9987, 29.2116, 30.4264, 31.6428, 32.8607, 34.0795, 70, 0.00068813, 2000.01, 25.2886, 26.7879, 27.9987, 29.2116, 30.4264, 31.6428, 32.8607, 34.0795, 70, 0.000631879, 2000.01, 25.2886, 26.7879, 27.9987, 29.2116, 30.4264, 31.6428, 32.8607, 34.0795, 70, 0.00069366, 2000.01, 25.2886, 26.7879, 27.9987, 29.2116, 30.4264, 31.6428, 32.8607, 34.0795, 70, 0.00103224, 2000.01, 25.2886, 26.7879, 27.9987, 29.2116, 30.4264, 31.6428, 32.8607, 34.0795, 70]\n"
       ]
      }
     ],
     "prompt_number": 28
    },
    {
     "cell_type": "code",
     "collapsed": false,
     "input": [
      "# Plot the solution. TO DO: need to be checked, this plotting block is a verbatim copy of Andrian code before\n",
      "\n",
      "V_opt = solution[\"x\"]\n",
      "\n",
      "pl.figure()\n",
      "\n",
      "for k in range(N_s):\n",
      "    pl.plot(time_points, V_opt[k::N_s+2], label = \"T_s_\" + str(k))\n",
      "\n",
      "pl.title(\"Simulation with optimized controls\")\n",
      "pl.ylabel(\"Temperature (deg C)\")\n",
      "pl.xlabel(\"Time (s)\")\n",
      "pl.legend(loc = \"best\")\n",
      "pl.show()\n",
      "\n",
      "\n",
      "# Controls, massflows, CHP outlet temperature\n",
      "\n",
      "T_in_CHP_opt = pl.array([V_opt[N_s-1::N_s+2][k] for k in range(N)])\n",
      "status_CHP_opt = pl.array([V_opt[N_s::N_s+2][k] for k in range(N)])\n",
      "\n",
      "CHP_on = ca.MX.sym(\"CHP_on\")\n",
      "T_in_CHP = ca.MX.sym(\"T_in_CHP\")\n",
      "f_mdot = ca.Function(\"f_mdot\", [CHP_on, T_in_CHP], \\\n",
      "    [CHP_on * ((p_CHP[0] + p_CHP[1] * T_in_CHP + p_CHP[2] * T_in_CHP) / 3.6)])\n",
      "\n",
      "mdot_eval = []\n",
      "\n",
      "for k in range(N):\n",
      "    mdot_eval.append(f_mdot(status_CHP_opt[k], T_in_CHP_opt[k]))\n",
      "\n",
      "mdot_eval = ca.vertcat(*mdot_eval)\n",
      "\n",
      "pl.figure()\n",
      "pl.subplot(2, 1, 1)\n",
      "pl.title(\"Optimized controls and resulting mass flow\")\n",
      "pl.step(time_points[:-1], status_CHP_opt, label = \"Status CHP opt\")\n",
      "pl.ylim(-0.2, 1.2)\n",
      "pl.ylabel(\"Status CHP (on/off)\")\n",
      "pl.xlabel(\"Time (s)\")\n",
      "pl.legend(loc = \"best\")\n",
      "pl.subplot(2, 1, 2)\n",
      "pl.plot(time_points[:-1], mdot_eval, label = \"mdot opt\")\n",
      "pl.ylim(-0.05, 0.3)\n",
      "pl.ylabel(\"Mass flow (kg/s)\")\n",
      "pl.xlabel(\"Time (s)\")\n",
      "pl.legend(loc = \"best\")\n",
      "pl.show()"
     ],
     "language": "python",
     "metadata": {},
     "outputs": [],
     "prompt_number": 8
    },
    {
     "cell_type": "code",
     "collapsed": false,
     "input": [
      "print(f)"
     ],
     "language": "python",
     "metadata": {},
     "outputs": [
      {
       "output_type": "stream",
       "stream": "stdout",
       "text": [
        " Number of inputs: 3\n",
        "  Input 0 (\"x\"): 9-by-1 (dense)\n",
        "  Input 1 (\"z\"): 18-by-1 (dense)\n",
        "  Input 2 (\"p\"): 2-by-1 (dense)\n",
        " Number of outputs: 2\n",
        "  Output 0 (\"ode\"): 9-by-1 (dense)\n",
        "  Output 1 (\"alg\"): 18-by-1 (dense)\n",
        "@0 = 0.006;\n",
        "@1 = input[2][0];\n",
        "@2 = (@0*@1);\n",
        "@3 = input[1][13];\n",
        "@4 = input[0][1];\n",
        "@5 = (@3*@4);\n",
        "@6 = input[1][14];\n",
        "@7 = input[0][0];\n",
        "@8 = (@6*@7);\n",
        "@5 = (@5-@8);\n",
        "@8 = 25;\n",
        "@9 = input[1][15];\n",
        "@10 = (@8*@9);\n",
        "@5 = (@5+@10);\n",
        "@10 = input[1][16];\n",
        "@11 = (@10*@7);\n",
        "@5 = (@5-@11);\n",
        "@2 = (@2*@5);\n",
        "output[0][0] = @2;\n",
        "@2 = (@0*@1);\n",
        "@5 = input[1][11];\n",
        "@11 = input[0][2];\n",
        "@12 = (@5*@11);\n",
        "@13 = input[1][12];\n",
        "@14 = (@13*@4);\n",
        "@12 = (@12-@14);\n",
        "@14 = (@6*@7);\n",
        "@12 = (@12+@14);\n",
        "@14 = (@3*@4);\n",
        "@12 = (@12-@14);\n",
        "@2 = (@2*@12);\n",
        "output[0][1] = @2;\n",
        "@2 = (@0*@1);\n",
        "@12 = input[1][9];\n",
        "@14 = input[0][3];\n",
        "@15 = (@12*@14);\n",
        "@16 = input[1][10];\n",
        "@17 = (@16*@11);\n",
        "@15 = (@15-@17);\n",
        "@4 = (@13*@4);\n",
        "@15 = (@15+@4);\n",
        "@4 = (@5*@11);\n",
        "@15 = (@15-@4);\n",
        "@2 = (@2*@15);\n",
        "output[0][2] = @2;\n",
        "@2 = (@0*@1);\n",
        "@15 = input[1][7];\n",
        "@4 = input[0][4];\n",
        "@17 = (@15*@4);\n",
        "@18 = input[1][8];\n",
        "@19 = (@18*@14);\n",
        "@17 = (@17-@19);\n",
        "@11 = (@16*@11);\n",
        "@17 = (@17+@11);\n",
        "@11 = (@12*@14);\n",
        "@17 = (@17-@11);\n",
        "@2 = (@2*@17);\n",
        "output[0][3] = @2;\n",
        "@2 = (@0*@1);\n",
        "@17 = input[1][3];\n",
        "@11 = input[0][6];\n",
        "@19 = (@17*@11);\n",
        "@20 = input[1][5];\n",
        "@21 = input[0][5];\n",
        "@22 = (@20*@21);\n",
        "@19 = (@19-@22);\n",
        "@22 = input[1][6];\n",
        "@23 = (@22*@4);\n",
        "@19 = (@19+@23);\n",
        "@23 = input[1][4];\n",
        "@24 = (@23*@21);\n",
        "@19 = (@19-@24);\n",
        "@2 = (@2*@19);\n",
        "output[0][4] = @2;\n",
        "@2 = (@0*@1);\n",
        "@19 = (@20*@21);\n",
        "@24 = (@22*@4);\n",
        "@19 = (@19-@24);\n",
        "@14 = (@18*@14);\n",
        "@19 = (@19+@14);\n",
        "@4 = (@15*@4);\n",
        "@19 = (@19-@4);\n",
        "@2 = (@2*@19);\n",
        "output[0][5] = @2;\n",
        "@2 = (@0*@1);\n",
        "@19 = input[1][2];\n",
        "@4 = input[0][7];\n",
        "@14 = (@19*@4);\n",
        "@11 = (@17*@11);\n",
        "@14 = (@14-@11);\n",
        "@2 = (@2*@14);\n",
        "output[0][6] = @2;\n",
        "@2 = (@0*@1);\n",
        "@14 = input[1][1];\n",
        "@11 = input[0][8];\n",
        "@24 = (@14*@11);\n",
        "@4 = (@19*@4);\n",
        "@24 = (@24-@4);\n",
        "@2 = (@2*@24);\n",
        "output[0][7] = @2;\n",
        "@0 = (@0*@1);\n",
        "@1 = input[1][0];\n",
        "@2 = input[1][17];\n",
        "@24 = (@1*@2);\n",
        "@11 = (@14*@11);\n",
        "@24 = (@24-@11);\n",
        "@0 = (@0*@24);\n",
        "output[0][8] = @0;\n",
        "@0 = 0.0108904;\n",
        "@0 = (@0*@7);\n",
        "@24 = 0.306566;\n",
        "@24 = (@24-@0);\n",
        "@0 = sq(@7);\n",
        "@11 = 0.000207769;\n",
        "@11 = (@11*@0);\n",
        "@24 = (@24+@11);\n",
        "@11 = 3.6;\n",
        "@24 = (@24/@11);\n",
        "@24 = (@1-@24);\n",
        "output[1][0] = @24;\n",
        "@24 = 4182;\n",
        "@11 = (@24*@1);\n",
        "@0 = 0.1;\n",
        "@11 = (@11+@0);\n",
        "@0 = 9600;\n",
        "@0 = (@0/@11);\n",
        "@0 = (@0+@7);\n",
        "@2 = (@2-@0);\n",
        "output[1][1] = @2;\n",
        "@1 = (@14-@1);\n",
        "output[1][2] = @1;\n",
        "@14 = (@19-@14);\n",
        "output[1][3] = @14;\n",
        "@19 = (@17-@19);\n",
        "output[1][4] = @19;\n",
        "@17 = (@17-@20);\n",
        "@17 = (@17+@22);\n",
        "@17 = (@17-@23);\n",
        "output[1][5] = @17;\n",
        "@17 = (@20-@15);\n",
        "@17 = (@17-@22);\n",
        "@17 = (@17+@18);\n",
        "output[1][6] = @17;\n",
        "@17 = (@15-@12);\n",
        "@17 = (@17-@18);\n",
        "@17 = (@17+@16);\n",
        "output[1][7] = @17;\n",
        "@17 = (@12-@5);\n",
        "@17 = (@17-@16);\n",
        "@17 = (@17+@13);\n",
        "output[1][8] = @17;\n",
        "@17 = (@5-@3);\n",
        "@17 = (@17-@13);\n",
        "@17 = (@17+@6);\n",
        "output[1][9] = @17;\n",
        "@10 = (@3-@10);\n",
        "@10 = (@10-@6);\n",
        "@10 = (@10+@9);\n",
        "output[1][10] = @10;\n",
        "@9 = (@9-@23);\n",
        "output[1][11] = @9;\n",
        "@20 = (@20*@22);\n",
        "output[1][12] = @20;\n",
        "@15 = (@15*@18);\n",
        "output[1][13] = @15;\n",
        "@12 = (@12*@16);\n",
        "output[1][14] = @12;\n",
        "@5 = (@5*@13);\n",
        "output[1][15] = @5;\n",
        "@3 = (@3*@6);\n",
        "output[1][16] = @3;\n",
        "@3 = input[2][1];\n",
        "@3 = (@3/@24);\n",
        "@21 = (@21-@8);\n",
        "@23 = (@23*@21);\n",
        "@3 = (@3-@23);\n",
        "output[1][17] = @3;\n",
        "\n"
       ]
      }
     ],
     "prompt_number": 10
    },
    {
     "cell_type": "code",
     "collapsed": false,
     "input": [
      "print(f_z)"
     ],
     "language": "python",
     "metadata": {},
     "outputs": [
      {
       "output_type": "stream",
       "stream": "stdout",
       "text": [
        "@1=4182, [(x_0-(((0.306566-(0.0108904*x_0))+(0.000207769*sq(x_0)))/3.6)), (x_17-((9600/((@1*x_0)+0.1))+x_0)), (x_1-x_0), (x_2-x_1), (x_3-x_2), (((x_3-x_5)+x_6)-x_4), (((x_5-x_7)-x_6)+x_8), (((x_7-x_9)-x_8)+x_10), (((x_9-x_11)-x_10)+x_12), (((x_11-x_13)-x_12)+x_14), (((x_13-x_16)-x_14)+x_15), (x_15-x_4), (x_5*x_6), (x_7*x_8), (x_9*x_10), (x_11*x_12), (x_13*x_14), ((u_1/@1)-(x_4*(x_5-25)))]\n"
       ]
      }
     ],
     "prompt_number": 11
    }
   ],
   "metadata": {}
  }
 ]
}